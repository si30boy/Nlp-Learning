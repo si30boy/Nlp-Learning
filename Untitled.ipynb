{
 "cells": [
  {
   "cell_type": "markdown",
   "id": "fa2ae76f-0002-484c-9b1a-ebda8d33ef34",
   "metadata": {},
   "source": [
    "<h1>pyhton For DataScience</h1>"
   ]
  },
  {
   "cell_type": "code",
   "execution_count": 4,
   "id": "1edd8c4b-15bb-489d-b28a-2b2812949872",
   "metadata": {},
   "outputs": [
    {
     "name": "stdout",
     "output_type": "stream",
     "text": [
      "Hello world\n"
     ]
    }
   ],
   "source": [
    "print(\"Hello world\")"
   ]
  },
  {
   "cell_type": "code",
   "execution_count": 6,
   "id": "60a02664-b1b2-4f76-b28b-bbc9851afbd5",
   "metadata": {},
   "outputs": [],
   "source": [
    "x=3 "
   ]
  },
  {
   "cell_type": "code",
   "execution_count": 8,
   "id": "f41ebf30-eefc-409d-9ba0-be49556c1aa4",
   "metadata": {},
   "outputs": [
    {
     "name": "stdout",
     "output_type": "stream",
     "text": [
      "Variable               Type        Data/Info\n",
      "--------------------------------------------\n",
      "dataframe_columns      function    <function dataframe_colum<...>ns at 0x000001FD599F4B80>\n",
      "dataframe_hash         function    <function dataframe_hash at 0x000001FD583C89A0>\n",
      "dtypes_str             function    <function dtypes_str at 0x000001FD599F4860>\n",
      "get_dataframes         function    <function get_dataframes at 0x000001FD583C8AE0>\n",
      "getpass                module      <module 'getpass' from 'D<...>cience\\\\Lib\\\\getpass.py'>\n",
      "hashlib                module      <module 'hashlib' from 'D<...>cience\\\\Lib\\\\hashlib.py'>\n",
      "import_pandas_safely   function    <function import_pandas_s<...>ly at 0x000001FD599F4CC0>\n",
      "is_data_frame          function    <function is_data_frame at 0x000001FD599F47C0>\n",
      "json                   module      <module 'json' from 'D:\\\\<...>\\Lib\\\\json\\\\__init__.py'>\n",
      "x                      int         3\n"
     ]
    }
   ],
   "source": [
    "%whos\n"
   ]
  },
  {
   "cell_type": "code",
   "execution_count": 10,
   "id": "112a593f-ca86-4214-8300-b091b25d2d7d",
   "metadata": {},
   "outputs": [
    {
     "name": "stdout",
     "output_type": "stream",
     "text": [
      "<class 'int'>\n"
     ]
    }
   ],
   "source": [
    "print(type(x))"
   ]
  },
  {
   "cell_type": "code",
   "execution_count": 12,
   "id": "3da64d34-b48c-43a7-955b-b678ac51a3ab",
   "metadata": {},
   "outputs": [],
   "source": [
    "a,b,c,d,f = 1,2.3,6.7,-1,0"
   ]
  },
  {
   "cell_type": "code",
   "execution_count": 14,
   "id": "0f6eb6a4-7f60-41c7-97de-699b2a7c908f",
   "metadata": {},
   "outputs": [
    {
     "name": "stdout",
     "output_type": "stream",
     "text": [
      "Variable               Type        Data/Info\n",
      "--------------------------------------------\n",
      "a                      int         1\n",
      "b                      float       2.3\n",
      "c                      float       6.7\n",
      "d                      int         -1\n",
      "dataframe_columns      function    <function dataframe_colum<...>ns at 0x000001FD583C8540>\n",
      "dataframe_hash         function    <function dataframe_hash at 0x000001FD583C8CC0>\n",
      "dtypes_str             function    <function dtypes_str at 0x000001FD583C8360>\n",
      "f                      int         0\n",
      "get_dataframes         function    <function get_dataframes at 0x000001FD599F4B80>\n",
      "getpass                module      <module 'getpass' from 'D<...>cience\\\\Lib\\\\getpass.py'>\n",
      "hashlib                module      <module 'hashlib' from 'D<...>cience\\\\Lib\\\\hashlib.py'>\n",
      "import_pandas_safely   function    <function import_pandas_s<...>ly at 0x000001FD583C8900>\n",
      "is_data_frame          function    <function is_data_frame at 0x000001FD583C87C0>\n",
      "json                   module      <module 'json' from 'D:\\\\<...>\\Lib\\\\json\\\\__init__.py'>\n",
      "x                      int         3\n"
     ]
    }
   ],
   "source": [
    "%whos\n"
   ]
  },
  {
   "cell_type": "markdown",
   "id": "7ff5947b-cb60-4870-aa0d-ed564f8a9293",
   "metadata": {},
   "source": [
    "برای حذف کردن دیتا از این بخش پایینی استفاده میکنیم"
   ]
  },
  {
   "cell_type": "code",
   "execution_count": 16,
   "id": "ee19223d-fffc-41c4-aa57-c6bc72331542",
   "metadata": {},
   "outputs": [],
   "source": [
    "del x "
   ]
  },
  {
   "cell_type": "code",
   "execution_count": 18,
   "id": "7862ca5b-a2a9-4cac-992d-03bfbaaf1d1a",
   "metadata": {},
   "outputs": [
    {
     "name": "stdout",
     "output_type": "stream",
     "text": [
      "Variable               Type        Data/Info\n",
      "--------------------------------------------\n",
      "a                      int         1\n",
      "b                      float       2.3\n",
      "c                      float       6.7\n",
      "d                      int         -1\n",
      "dataframe_columns      function    <function dataframe_colum<...>ns at 0x000001FD583C8900>\n",
      "dataframe_hash         function    <function dataframe_hash at 0x000001FD583C8540>\n",
      "dtypes_str             function    <function dtypes_str at 0x000001FD583C87C0>\n",
      "f                      int         0\n",
      "get_dataframes         function    <function get_dataframes at 0x000001FD583C8360>\n",
      "getpass                module      <module 'getpass' from 'D<...>cience\\\\Lib\\\\getpass.py'>\n",
      "hashlib                module      <module 'hashlib' from 'D<...>cience\\\\Lib\\\\hashlib.py'>\n",
      "import_pandas_safely   function    <function import_pandas_s<...>ly at 0x000001FD599F45E0>\n",
      "is_data_frame          function    <function is_data_frame at 0x000001FD583718A0>\n",
      "json                   module      <module 'json' from 'D:\\\\<...>\\Lib\\\\json\\\\__init__.py'>\n"
     ]
    }
   ],
   "source": [
    "%whos\n"
   ]
  },
  {
   "cell_type": "code",
   "execution_count": 23,
   "id": "dc2d34d2-3581-4b27-9af1-2202a7b6a782",
   "metadata": {},
   "outputs": [],
   "source": [
    "ab = \"hello irani \""
   ]
  },
  {
   "cell_type": "code",
   "execution_count": 47,
   "id": "1976b459-2048-4b08-b125-61c2872dcc97",
   "metadata": {},
   "outputs": [],
   "source": [
    "c = 4 + 3j"
   ]
  },
  {
   "cell_type": "code",
   "execution_count": 49,
   "id": "d389afcf-f1fb-48c5-9e1a-c68eb5ee8f78",
   "metadata": {},
   "outputs": [
    {
     "name": "stdout",
     "output_type": "stream",
     "text": [
      "Variable               Type        Data/Info\n",
      "--------------------------------------------\n",
      "a                      int         1\n",
      "ab                     str         hello irani \n",
      "b                      float       2.3\n",
      "c                      complex     (4+3j)\n",
      "d                      int         -1\n",
      "dataframe_columns      function    <function dataframe_colum<...>ns at 0x000001FD583C89A0>\n",
      "dataframe_hash         function    <function dataframe_hash at 0x000001FD583C85E0>\n",
      "dtypes_str             function    <function dtypes_str at 0x000001FD583C8540>\n",
      "f                      int         0\n",
      "get_dataframes         function    <function get_dataframes at 0x000001FD599F4860>\n",
      "getpass                module      <module 'getpass' from 'D<...>cience\\\\Lib\\\\getpass.py'>\n",
      "hashlib                module      <module 'hashlib' from 'D<...>cience\\\\Lib\\\\hashlib.py'>\n",
      "import_pandas_safely   function    <function import_pandas_s<...>ly at 0x000001FD583C8CC0>\n",
      "is_data_frame          function    <function is_data_frame at 0x000001FD583C8220>\n",
      "json                   module      <module 'json' from 'D:\\\\<...>\\Lib\\\\json\\\\__init__.py'>\n"
     ]
    }
   ],
   "source": [
    "%whos"
   ]
  },
  {
   "cell_type": "code",
   "execution_count": null,
   "id": "02cf6c61-405a-47fa-9403-e5204a8b1362",
   "metadata": {},
   "outputs": [],
   "source": []
  }
 ],
 "metadata": {
  "kernelspec": {
   "display_name": "Python 3 (ipykernel)",
   "language": "python",
   "name": "python3"
  },
  "language_info": {
   "codemirror_mode": {
    "name": "ipython",
    "version": 3
   },
   "file_extension": ".py",
   "mimetype": "text/x-python",
   "name": "python",
   "nbconvert_exporter": "python",
   "pygments_lexer": "ipython3",
   "version": "3.12.4"
  }
 },
 "nbformat": 4,
 "nbformat_minor": 5
}
