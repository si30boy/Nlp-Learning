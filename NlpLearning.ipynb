{
 "cells": [
  {
   "cell_type": "markdown",
   "id": "f739ce0d-e42d-4c30-bff9-1e0b1220791f",
   "metadata": {},
   "source": [
    "<h1>NLP - LowerCase</h1>\n"
   ]
  },
  {
   "cell_type": "code",
   "execution_count": 1,
   "id": "c145aa81-f616-4f81-a5b7-90e72d48c8a0",
   "metadata": {},
   "outputs": [],
   "source": [
    "sentence = \"Her cats name is Luna\""
   ]
  },
  {
   "cell_type": "code",
   "execution_count": 5,
   "id": "1883aa15-bbfa-40bf-a7f0-a1136d5ae667",
   "metadata": {},
   "outputs": [
    {
     "name": "stdout",
     "output_type": "stream",
     "text": [
      "her cats name is luna\n"
     ]
    }
   ],
   "source": [
    "lower_sentence = sentence.lower()\n",
    "print(lower_sentence)"
   ]
  },
  {
   "cell_type": "code",
   "execution_count": 7,
   "id": "3048ef7f-ce2b-455d-934e-cbb03782a40f",
   "metadata": {},
   "outputs": [],
   "source": [
    "sentence_list = [\"Could You Pass Me the Tv Remote\",\n",
    "                \"Could You Pass Me the Tv Remote\",\n",
    "                \"Could You Pass Me the Tv Remote\"\n",
    "                ]\n"
   ]
  },
  {
   "cell_type": "code",
   "execution_count": 9,
   "id": "e4fc8b76-889b-4289-997f-b16834867d8c",
   "metadata": {},
   "outputs": [
    {
     "name": "stdout",
     "output_type": "stream",
     "text": [
      "['could you pass me the tv remote', 'could you pass me the tv remote', 'could you pass me the tv remote']\n"
     ]
    }
   ],
   "source": [
    "lower_sentence_list = [x.lower() for x in sentence_list]\n",
    "print(lower_sentence_list)"
   ]
  },
  {
   "cell_type": "markdown",
   "id": "7f565316-6626-45d4-84ba-0b67f538e112",
   "metadata": {},
   "source": [
    "<h1>NLP - RemovingStopWords</h1>\n"
   ]
  },
  {
   "cell_type": "code",
   "execution_count": 22,
   "id": "9d02eb9c-2cf5-43a1-86bd-55fe9a7065dc",
   "metadata": {},
   "outputs": [
    {
     "name": "stderr",
     "output_type": "stream",
     "text": [
      "[nltk_data] Downloading package stopwords to\n",
      "[nltk_data]     C:\\Users\\SSZ\\AppData\\Roaming\\nltk_data...\n",
      "[nltk_data]   Unzipping corpora\\stopwords.zip.\n"
     ]
    }
   ],
   "source": [
    "import nltk\n",
    "nltk.download('stopwords')\n",
    "from nltk.corpus import stopwords"
   ]
  },
  {
   "cell_type": "code",
   "execution_count": 48,
   "id": "da3db11a-26ce-4879-95d5-ad1f48bec08a",
   "metadata": {},
   "outputs": [],
   "source": [
    "en_stopwords = stopwords.words('english')\n"
   ]
  },
  {
   "cell_type": "code",
   "execution_count": 26,
   "id": "2ffe7ddc-f44b-49b9-b429-27854f489258",
   "metadata": {},
   "outputs": [
    {
     "name": "stdout",
     "output_type": "stream",
     "text": [
      "['a', 'about', 'above', 'after', 'again', 'against', 'ain', 'all', 'am', 'an', 'and', 'any', 'are', 'aren', \"aren't\", 'as', 'at', 'be', 'because', 'been', 'before', 'being', 'below', 'between', 'both', 'but', 'by', 'can', 'couldn', \"couldn't\", 'd', 'did', 'didn', \"didn't\", 'do', 'does', 'doesn', \"doesn't\", 'doing', 'don', \"don't\", 'down', 'during', 'each', 'few', 'for', 'from', 'further', 'had', 'hadn', \"hadn't\", 'has', 'hasn', \"hasn't\", 'have', 'haven', \"haven't\", 'having', 'he', \"he'd\", \"he'll\", 'her', 'here', 'hers', 'herself', \"he's\", 'him', 'himself', 'his', 'how', 'i', \"i'd\", 'if', \"i'll\", \"i'm\", 'in', 'into', 'is', 'isn', \"isn't\", 'it', \"it'd\", \"it'll\", \"it's\", 'its', 'itself', \"i've\", 'just', 'll', 'm', 'ma', 'me', 'mightn', \"mightn't\", 'more', 'most', 'mustn', \"mustn't\", 'my', 'myself', 'needn', \"needn't\", 'no', 'nor', 'not', 'now', 'o', 'of', 'off', 'on', 'once', 'only', 'or', 'other', 'our', 'ours', 'ourselves', 'out', 'over', 'own', 're', 's', 'same', 'shan', \"shan't\", 'she', \"she'd\", \"she'll\", \"she's\", 'should', 'shouldn', \"shouldn't\", \"should've\", 'so', 'some', 'such', 't', 'than', 'that', \"that'll\", 'the', 'their', 'theirs', 'them', 'themselves', 'then', 'there', 'these', 'they', \"they'd\", \"they'll\", \"they're\", \"they've\", 'this', 'those', 'through', 'to', 'too', 'under', 'until', 'up', 've', 'very', 'was', 'wasn', \"wasn't\", 'we', \"we'd\", \"we'll\", \"we're\", 'were', 'weren', \"weren't\", \"we've\", 'what', 'when', 'where', 'which', 'while', 'who', 'whom', 'why', 'will', 'with', 'won', \"won't\", 'wouldn', \"wouldn't\", 'y', 'you', \"you'd\", \"you'll\", 'your', \"you're\", 'yours', 'yourself', 'yourselves', \"you've\"]\n"
     ]
    }
   ],
   "source": [
    "print(en_stopwords)"
   ]
  },
  {
   "cell_type": "code",
   "execution_count": 36,
   "id": "1fc9a819-de24-4722-a5ef-b13f3ec53a08",
   "metadata": {},
   "outputs": [],
   "source": [
    "sentence = \"it was too far to go to the shop and did not want her to walk ali 8\""
   ]
  },
  {
   "cell_type": "code",
   "execution_count": 38,
   "id": "f82f89b3-3f32-4ac9-b7d0-b9bd2b82d10d",
   "metadata": {},
   "outputs": [],
   "source": [
    "sentence_no_stopwords = ' '.join([word for word in sentence.split() if word not in en_stopwords])"
   ]
  },
  {
   "cell_type": "code",
   "execution_count": 40,
   "id": "e1169c8d-7e68-4a14-b50c-b8b65545ebad",
   "metadata": {},
   "outputs": [
    {
     "name": "stdout",
     "output_type": "stream",
     "text": [
      "far go shop want walk ali 8\n"
     ]
    }
   ],
   "source": [
    "print(sentence_no_stopwords)"
   ]
  },
  {
   "cell_type": "code",
   "execution_count": 50,
   "id": "fdb2469a-282b-4ab1-a401-d2c911401a31",
   "metadata": {},
   "outputs": [],
   "source": [
    "en_stopwords.remove(\"did\")\n",
    "en_stopwords.remove(\"not\")\n"
   ]
  },
  {
   "cell_type": "code",
   "execution_count": 52,
   "id": "a9811761-0133-4b1c-b5b5-c5b4d874a08a",
   "metadata": {},
   "outputs": [],
   "source": [
    "en_stopwords.append(\"go\")"
   ]
  },
  {
   "cell_type": "code",
   "execution_count": 54,
   "id": "88fd7ebc-71cd-43c4-a844-c10679f6fc1a",
   "metadata": {},
   "outputs": [],
   "source": [
    "sentence_no_stopwords_custom = ' '.join([word for word in sentence.split() if word not in en_stopwords])"
   ]
  },
  {
   "cell_type": "code",
   "execution_count": 56,
   "id": "e48a0521-2212-46ca-bfc1-de920c4e3121",
   "metadata": {},
   "outputs": [
    {
     "name": "stdout",
     "output_type": "stream",
     "text": [
      "far shop did not want walk ali 8\n"
     ]
    }
   ],
   "source": [
    "print(sentence_no_stopwords_custom)"
   ]
  },
  {
   "cell_type": "markdown",
   "id": "be7a961e-eeb7-403d-a72d-849055cd6fb5",
   "metadata": {},
   "source": [
    "<h1>Regular Expression</h1>"
   ]
  },
  {
   "cell_type": "code",
   "execution_count": 18,
   "id": "4470bda9-3d2b-4e53-b15b-85cc2c7ec6f0",
   "metadata": {},
   "outputs": [],
   "source": [
    "import re"
   ]
  },
  {
   "cell_type": "code",
   "execution_count": 71,
   "id": "a41a4cf3-ac08-4053-867a-4cc3f107c6b6",
   "metadata": {},
   "outputs": [
    {
     "name": "stdout",
     "output_type": "stream",
     "text": [
      "C:\\desktop\\notes\n"
     ]
    }
   ],
   "source": [
    "#وقتی با کاراکتر های خاص داری کار میکنی عین این جا قبل استرینگ یدونه آر بزار\n",
    "my_folder = r\"C:\\desktop\\notes\"\n",
    "print(my_folder)"
   ]
  },
  {
   "cell_type": "code",
   "execution_count": 63,
   "id": "75c59d59-64ad-4990-bba2-a5b23bbe83d9",
   "metadata": {},
   "outputs": [],
   "source": [
    "result_search = re.search(\"pattern\",r\"string to contain the pattern\")"
   ]
  },
  {
   "cell_type": "code",
   "execution_count": 65,
   "id": "25eebe45-847c-4877-9b62-c1ffcb204928",
   "metadata": {},
   "outputs": [
    {
     "name": "stdout",
     "output_type": "stream",
     "text": [
      "<re.Match object; span=(22, 29), match='pattern'>\n"
     ]
    }
   ],
   "source": [
    "print(result_search)"
   ]
  },
  {
   "cell_type": "code",
   "execution_count": 75,
   "id": "50f48b93-8b59-4a7f-a13a-00dd063e3381",
   "metadata": {},
   "outputs": [
    {
     "name": "stdout",
     "output_type": "stream",
     "text": [
      "None\n"
     ]
    }
   ],
   "source": [
    "result_search_2 = re.search(\"pattern\",r\"the phrase to find isn't in this string \")\n",
    "print(result_search_2)"
   ]
  },
  {
   "cell_type": "code",
   "execution_count": 77,
   "id": "86e64c61-f064-475d-b49c-3b20fb95deb6",
   "metadata": {},
   "outputs": [],
   "source": [
    "string = r\"sara was able to help me find the item 1 needed quickly\""
   ]
  },
  {
   "cell_type": "code",
   "execution_count": 79,
   "id": "56e1a8cc-463e-4583-9386-da789c26adc8",
   "metadata": {},
   "outputs": [
    {
     "name": "stdout",
     "output_type": "stream",
     "text": [
      "sarah was able to help me find the item 1 needed quickly\n"
     ]
    }
   ],
   "source": [
    "new_string = re.sub(\"sara\" , \"sarah\" , string)\n",
    "print(new_string)"
   ]
  },
  {
   "cell_type": "code",
   "execution_count": 99,
   "id": "560b9e30-353b-489c-a224-032eef1e2b5a",
   "metadata": {},
   "outputs": [],
   "source": [
    "customer_reviews = [\n",
    "    \"I’m really happy with the quality! sarah couldn’t believe how perfect it matched the description.\",\n",
    "    \"Amir loved how fast the delivery was and how carefully it was packaged Great job!\",\n",
    "    \"sarah had an issue at first, but the customer support was amazing — quick and super helpful!\",\n",
    "    \"Niloofar found the whole shopping experience smooth and easy. Highly recommended\",\n",
    "    \"Reza says the price and quality balance is just right. Totally worth it!\"\n",
    "]"
   ]
  },
  {
   "cell_type": "code",
   "execution_count": 101,
   "id": "eee4fc72-86db-43d7-b13b-b2adec95d7cd",
   "metadata": {},
   "outputs": [],
   "source": [
    "sarahs_reviews = []"
   ]
  },
  {
   "cell_type": "code",
   "execution_count": 102,
   "id": "8aba8308-9bdb-42fb-91cc-cf83e1f7839b",
   "metadata": {},
   "outputs": [],
   "source": [
    "pattern_to_find = r\"sarah\""
   ]
  },
  {
   "cell_type": "code",
   "execution_count": 103,
   "id": "bd7e326d-124d-4ffd-81dd-b1bc977dfdcc",
   "metadata": {},
   "outputs": [],
   "source": [
    "for string in customer_reviews:\n",
    "    if(re.search(pattern_to_find, string)):\n",
    "        sarahs_reviews.append(string)"
   ]
  },
  {
   "cell_type": "code",
   "execution_count": 104,
   "id": "131fe630-6db6-425d-93b0-fab3d80be1cb",
   "metadata": {},
   "outputs": [
    {
     "name": "stdout",
     "output_type": "stream",
     "text": [
      "['I’m really happy with the quality! sarah couldn’t believe how perfect it matched the description.', 'sarah had an issue at first, but the customer support was amazing — quick and super helpful!']\n"
     ]
    }
   ],
   "source": [
    "print(sarahs_reviews)"
   ]
  },
  {
   "cell_type": "code",
   "execution_count": 106,
   "id": "fa5512db-b251-494c-b646-62d7d68513d2",
   "metadata": {},
   "outputs": [],
   "source": [
    "a_reviews = []\n",
    "pattern_to_find = r\"^R\"\n",
    "\n",
    "for string in customer_reviews:\n",
    "    if(re.search(pattern_to_find , string)):\n",
    "        a_reviews.append(string)"
   ]
  },
  {
   "cell_type": "code",
   "execution_count": 107,
   "id": "6275e42d-2bc8-4165-8275-1026c66cb044",
   "metadata": {},
   "outputs": [
    {
     "name": "stdout",
     "output_type": "stream",
     "text": [
      "['Reza says the price and quality balance is just right. Totally worth it!']\n"
     ]
    }
   ],
   "source": [
    "print(a_reviews)"
   ]
  },
  {
   "cell_type": "code",
   "execution_count": 119,
   "id": "6472dabe-0844-42aa-8420-b2398ad0a60c",
   "metadata": {},
   "outputs": [],
   "source": [
    "needwant_reviews = []\n",
    "pattern_to_find = r\"(recommend|packag)ed\"\n",
    "\n",
    "for string in customer_reviews:\n",
    "    if(re.search(pattern_to_find , string)):\n",
    "        needwant_reviews.append(string)\n"
   ]
  },
  {
   "cell_type": "code",
   "execution_count": 121,
   "id": "1171e408-b9f0-4416-9fb9-5fb1e19670d1",
   "metadata": {},
   "outputs": [
    {
     "name": "stdout",
     "output_type": "stream",
     "text": [
      "['Amir loved how fast the delivery was and how carefully it was packaged Great job!', 'Niloofar found the whole shopping experience smooth and easy. Highly recommended']\n"
     ]
    }
   ],
   "source": [
    "print(needwant_reviews)"
   ]
  },
  {
   "cell_type": "code",
   "execution_count": 123,
   "id": "c1224b63-1276-4910-869c-14b01e84b073",
   "metadata": {},
   "outputs": [],
   "source": [
    "no_punct_reviews =[]\n",
    "pattern_to_find = r\"[^\\w\\s]\"\n"
   ]
  },
  {
   "cell_type": "code",
   "execution_count": 125,
   "id": "54cf0844-84bb-409b-b417-554731b4a608",
   "metadata": {},
   "outputs": [],
   "source": [
    "for string in customer_reviews:\n",
    "    no_punct_string = re.sub(pattern_to_find ,\"\", string)\n",
    "    no_punct_reviews.append(no_punct_string)\n",
    "    "
   ]
  },
  {
   "cell_type": "code",
   "execution_count": 127,
   "id": "45d4d324-c82a-43e1-ae07-b267c022e450",
   "metadata": {},
   "outputs": [
    {
     "name": "stdout",
     "output_type": "stream",
     "text": [
      "['Im really happy with the quality sarah couldnt believe how perfect it matched the description', 'Amir loved how fast the delivery was and how carefully it was packaged Great job', 'sarah had an issue at first but the customer support was amazing  quick and super helpful', 'Niloofar found the whole shopping experience smooth and easy Highly recommended', 'Reza says the price and quality balance is just right Totally worth it']\n"
     ]
    }
   ],
   "source": [
    "print(no_punct_reviews)"
   ]
  },
  {
   "cell_type": "markdown",
   "id": "23fcf34f-4063-4b06-bf1b-ed17278362f4",
   "metadata": {},
   "source": [
    "<h1>Tokenization</h1>"
   ]
  },
  {
   "cell_type": "code",
   "execution_count": 46,
   "id": "faa14a9e-d361-4794-a0a8-75bd74f3b46e",
   "metadata": {},
   "outputs": [
    {
     "name": "stderr",
     "output_type": "stream",
     "text": [
      "[nltk_data] Downloading package punkt to\n",
      "[nltk_data]     C:\\Users\\SSZ\\AppData\\Roaming\\nltk_data...\n",
      "[nltk_data]   Unzipping tokenizers\\punkt.zip.\n"
     ]
    },
    {
     "data": {
      "text/plain": [
       "True"
      ]
     },
     "execution_count": 46,
     "metadata": {},
     "output_type": "execute_result"
    }
   ],
   "source": [
    "import nltk\n",
    "nltk.download('punkt')\n"
   ]
  },
  {
   "cell_type": "code",
   "execution_count": 49,
   "id": "bc28ac5f-a397-41e2-8ac1-089d33e621aa",
   "metadata": {},
   "outputs": [
    {
     "name": "stderr",
     "output_type": "stream",
     "text": [
      "[nltk_data] Downloading package punkt_tab to\n",
      "[nltk_data]     C:\\Users\\SSZ\\AppData\\Roaming\\nltk_data...\n",
      "[nltk_data]   Package punkt_tab is already up-to-date!\n"
     ]
    },
    {
     "data": {
      "text/plain": [
       "True"
      ]
     },
     "execution_count": 49,
     "metadata": {},
     "output_type": "execute_result"
    }
   ],
   "source": [
    "nltk.download('punkt_tab')\n"
   ]
  },
  {
   "cell_type": "code",
   "execution_count": 51,
   "id": "ad57e1b7-aceb-4777-8e7b-5b920282d1c2",
   "metadata": {},
   "outputs": [],
   "source": [
    "sentences = \"Her cat's name is luna , Her dog's name is Max\""
   ]
  },
  {
   "cell_type": "code",
   "execution_count": 53,
   "id": "e56e1d04-ef5a-4515-b010-c9fec4de9438",
   "metadata": {},
   "outputs": [
    {
     "data": {
      "text/plain": [
       "[\"Her cat's name is luna , Her dog's name is Max\"]"
      ]
     },
     "execution_count": 53,
     "metadata": {},
     "output_type": "execute_result"
    }
   ],
   "source": [
    "sent_tokenize(sentences)"
   ]
  },
  {
   "cell_type": "code",
   "execution_count": 55,
   "id": "e4f559ef-2965-433b-a4d9-dd35ae66ff38",
   "metadata": {},
   "outputs": [
    {
     "data": {
      "text/plain": [
       "['Her', 'cat', \"'s\", 'name', 'is', 'luna']"
      ]
     },
     "execution_count": 55,
     "metadata": {},
     "output_type": "execute_result"
    }
   ],
   "source": [
    "sentences = \"Her cat's name is luna\"\n",
    "word_tokenize(sentences)"
   ]
  },
  {
   "cell_type": "code",
   "execution_count": 61,
   "id": "1bc13f80-2eab-48d0-b3ae-33b63576d6ca",
   "metadata": {},
   "outputs": [
    {
     "data": {
      "text/plain": [
       "['Her',\n",
       " 'cat',\n",
       " \"'s\",\n",
       " 'name',\n",
       " 'is',\n",
       " 'luna',\n",
       " 'And',\n",
       " 'Her',\n",
       " 'dog',\n",
       " \"'\",\n",
       " 's',\n",
       " 'name',\n",
       " 'is',\n",
       " 'Max']"
      ]
     },
     "execution_count": 61,
     "metadata": {},
     "output_type": "execute_result"
    }
   ],
   "source": [
    "sentences = \"Her cat's name is luna And Her dog' s name is Max\"\n",
    "word_tokenize(sentences)"
   ]
  },
  {
   "cell_type": "markdown",
   "id": "096153a7-8135-460c-b7ac-d9c5072cac93",
   "metadata": {},
   "source": [
    "<h1>Stemming</h1>"
   ]
  },
  {
   "cell_type": "code",
   "execution_count": 63,
   "id": "bd027aaa-6abe-48b1-8363-eb1d3a05af65",
   "metadata": {},
   "outputs": [],
   "source": [
    "from nltk.stem import PorterStemmer"
   ]
  },
  {
   "cell_type": "code",
   "execution_count": 65,
   "id": "3f5990f7-c828-4c04-b0b0-164bf8382225",
   "metadata": {},
   "outputs": [],
   "source": [
    "ps = PorterStemmer()"
   ]
  },
  {
   "cell_type": "code",
   "execution_count": 137,
   "id": "083b263b-7237-4b3c-87cf-16ab242e2920",
   "metadata": {},
   "outputs": [],
   "source": [
    "connect_tokens = ['connnecting' , 'connected' , 'connectivity' , 'connect' , 'connects']"
   ]
  },
  {
   "cell_type": "code",
   "execution_count": 139,
   "id": "7488b947-23c4-46ab-aa4a-b4d1865b5713",
   "metadata": {},
   "outputs": [
    {
     "name": "stdout",
     "output_type": "stream",
     "text": [
      "connnecting :  connnect\n",
      "connected :  connect\n",
      "connectivity :  connect\n",
      "connect :  connect\n",
      "connects :  connect\n"
     ]
    }
   ],
   "source": [
    "for t in connect_tokens:\n",
    "    print(t, \": \", ps.stem(t))"
   ]
  },
  {
   "cell_type": "code",
   "execution_count": 141,
   "id": "67151cf3-7139-4119-be0b-b67d2a7d87db",
   "metadata": {},
   "outputs": [],
   "source": [
    "learn_tokens = ['learned' , 'learning' , 'learn' , 'learner' , 'learners']"
   ]
  },
  {
   "cell_type": "code",
   "execution_count": 143,
   "id": "9d2b8161-2fbd-4a50-b877-35a782687670",
   "metadata": {},
   "outputs": [
    {
     "name": "stdout",
     "output_type": "stream",
     "text": [
      "learned :  learn\n",
      "learning :  learn\n",
      "learn :  learn\n",
      "learner :  learner\n",
      "learners :  learner\n"
     ]
    }
   ],
   "source": [
    "for t in learn_tokens:\n",
    "    print(t, \": \", ps.stem(t))"
   ]
  },
  {
   "cell_type": "code",
   "execution_count": 87,
   "id": "155a577e-5062-4fbc-bbf2-928983bc295e",
   "metadata": {},
   "outputs": [],
   "source": [
    "likes_tokens = ['likes' , 'better' , 'worse']"
   ]
  },
  {
   "cell_type": "code",
   "execution_count": 91,
   "id": "75728233-ba58-49e0-bff2-9202da5f9663",
   "metadata": {},
   "outputs": [
    {
     "name": "stdout",
     "output_type": "stream",
     "text": [
      "likes :  like\n",
      "better :  better\n",
      "worse :  wors\n"
     ]
    }
   ],
   "source": [
    "for t in likes_tokens:\n",
    "    print(t, \": \", ps.stem(t))"
   ]
  },
  {
   "cell_type": "markdown",
   "id": "1c591f3a-48fe-44af-8afd-b26c615e7ded",
   "metadata": {},
   "source": [
    "<h1>Lemmatization</h1>"
   ]
  },
  {
   "cell_type": "code",
   "execution_count": 111,
   "id": "36957e4e-c5f5-4710-8e07-e21776a3a820",
   "metadata": {},
   "outputs": [
    {
     "name": "stderr",
     "output_type": "stream",
     "text": [
      "[nltk_data] Downloading package wordnet to\n",
      "[nltk_data]     C:\\Users\\SSZ\\AppData\\Roaming\\nltk_data...\n",
      "[nltk_data]   Package wordnet is already up-to-date!\n"
     ]
    }
   ],
   "source": [
    "nltk.download('wordnet')\n",
    "from nltk.stem import WordNetLemmatizer"
   ]
  },
  {
   "cell_type": "code",
   "execution_count": 133,
   "id": "22e3c5f2-e1e6-4412-b48d-2fe439fbaf54",
   "metadata": {},
   "outputs": [],
   "source": [
    "lemmatizer = WordNetLemmatizer()"
   ]
  },
  {
   "cell_type": "code",
   "execution_count": 145,
   "id": "eb8dd4fd-b862-4b06-aee9-258f8fc2cfaf",
   "metadata": {},
   "outputs": [
    {
     "name": "stdout",
     "output_type": "stream",
     "text": [
      "connnecting :  connnecting\n",
      "connected :  connected\n",
      "connectivity :  connectivity\n",
      "connect :  connect\n",
      "connects :  connects\n"
     ]
    }
   ],
   "source": [
    "for t in connect_tokens:\n",
    "    print(t, \": \", lemmatizer.lemmatize(t))"
   ]
  },
  {
   "cell_type": "code",
   "execution_count": 147,
   "id": "e47b7822-5a42-443a-9d3e-cf97d1a26ab0",
   "metadata": {},
   "outputs": [
    {
     "name": "stdout",
     "output_type": "stream",
     "text": [
      "learned :  learned\n",
      "learning :  learning\n",
      "learn :  learn\n",
      "learner :  learner\n",
      "learners :  learner\n"
     ]
    }
   ],
   "source": [
    "for t in learn_tokens:\n",
    "    print(t, \": \", lemmatizer.lemmatize(t))"
   ]
  },
  {
   "cell_type": "code",
   "execution_count": 151,
   "id": "ebd1ed5d-3ea3-4e0e-ae8b-eeeabadd9d99",
   "metadata": {},
   "outputs": [
    {
     "name": "stdout",
     "output_type": "stream",
     "text": [
      "likes :  like\n",
      "better :  better\n",
      "worse :  worse\n"
     ]
    }
   ],
   "source": [
    "for t in likes_tokens:\n",
    "    print(t, \": \", lemmatizer.lemmatize(t))"
   ]
  },
  {
   "cell_type": "code",
   "execution_count": null,
   "id": "9e9f8762-4ea2-42b6-bbb8-cce8e23801b0",
   "metadata": {},
   "outputs": [],
   "source": []
  }
 ],
 "metadata": {
  "kernelspec": {
   "display_name": "Python 3 (ipykernel)",
   "language": "python",
   "name": "python3"
  },
  "language_info": {
   "codemirror_mode": {
    "name": "ipython",
    "version": 3
   },
   "file_extension": ".py",
   "mimetype": "text/x-python",
   "name": "python",
   "nbconvert_exporter": "python",
   "pygments_lexer": "ipython3",
   "version": "3.12.4"
  }
 },
 "nbformat": 4,
 "nbformat_minor": 5
}
